{
  "nbformat": 4,
  "nbformat_minor": 0,
  "metadata": {
    "colab": {
      "provenance": [],
      "gpuType": "T4"
    },
    "kernelspec": {
      "name": "python3",
      "display_name": "Python 3"
    },
    "language_info": {
      "name": "python"
    },
    "accelerator": "GPU"
  },
  "cells": [
    {
      "cell_type": "code",
      "execution_count": null,
      "metadata": {
        "id": "Z0UBuf7cD-Tw"
      },
      "outputs": [],
      "source": [
        "import os\n",
        "import librosa\n",
        "import numpy as np\n",
        "import tensorflow as tf\n",
        "from tensorflow.keras.layers import Input, Conv2D, MaxPooling2D, Flatten, Dense, Dropout, BatchNormalization\n",
        "from tensorflow.keras.models import Model\n",
        "from tensorflow.keras.optimizers import Adam\n",
        "from sklearn.model_selection import train_test_split, StratifiedKFold\n",
        "from tensorflow.keras.utils import to_categorical, plot_model\n",
        "from tensorflow.image import resize\n",
        "from tensorflow.keras.models import load_model\n",
        "from sklearn.metrics import precision_score,accuracy_score, recall_score, f1_score, classification_report, confusion_matrix\n",
        "from imblearn.under_sampling import RandomUnderSampler\n",
        "from tensorflow.keras.callbacks import EarlyStopping"
      ]
    },
    {
      "cell_type": "code",
      "source": [
        "# Define your folder structure\n",
        "data_dir = '/content/drive/MyDrive/PhysioNet2021/Data'\n",
        "classes = ['Abnormal', 'Normal']\n",
        "\n",
        "# Load and preprocess audio data\n",
        "def load_and_preprocess_data(data_dir, classes, target_shape=(128, 128)):\n",
        "    data = []\n",
        "    labels = []\n",
        "\n",
        "    for i, class_name in enumerate(classes):\n",
        "        class_dir = os.path.join(data_dir, class_name)\n",
        "        for filename in os.listdir(class_dir):\n",
        "            if filename.endswith('.wav'):\n",
        "                file_path = os.path.join(class_dir, filename)\n",
        "                audio_data, sample_rate = librosa.load(file_path, sr=16000)\n",
        "                # Perform preprocessing (e.g., convert to Mel spectrogram and resize)\n",
        "                mel_spectrogram = librosa.feature.melspectrogram(y=audio_data, sr=sample_rate)\n",
        "                mel_spectrogram = librosa.power_to_db(mel_spectrogram, ref=np.max)  # Convert to dB scale\n",
        "                mel_spectrogram = resize(np.expand_dims(mel_spectrogram, axis=-1), target_shape)\n",
        "                data.append(mel_spectrogram)\n",
        "                labels.append(i)\n",
        "\n",
        "    return np.array(data), np.array(labels)"
      ],
      "metadata": {
        "id": "AfulepvtMeIz"
      },
      "execution_count": null,
      "outputs": []
    },
    {
      "cell_type": "code",
      "source": [
        "\n",
        "# Split data into training and testing sets\n",
        "data, labels = load_and_preprocess_data(data_dir, classes)\n",
        "labels = to_categorical(labels, num_classes=len(classes))  # Convert labels to one-hot encoding"
      ],
      "metadata": {
        "id": "kBba04a3O7Zx"
      },
      "execution_count": null,
      "outputs": []
    },
    {
      "cell_type": "code",
      "source": [
        "skf = StratifiedKFold(n_splits=5, shuffle=True, random_state=42)\n",
        "\n",
        "best_f1 = 0\n",
        "best_model = None\n",
        "best_history = None\n",
        "best_y_true = None\n",
        "best_y_pred = None\n",
        "best_fold = None\n",
        "fold_accuracies = []\n",
        "fold_precisions = []\n",
        "fold_recalls = []\n",
        "fold_f1s = []\n",
        "\n",
        "fold = 1\n",
        "for train_index, test_index in skf.split(data, np.argmax(labels, axis=1)):\n",
        "    print(f\"\\nTraining Fold {fold}...\")\n",
        "\n",
        "    X_train, X_test = data[train_index], data[test_index]\n",
        "    y_train, y_test = labels[train_index], labels[test_index]\n",
        "\n",
        "    input_layer = Input(shape=X_train[0].shape)\n",
        "    x = Conv2D(32, (3, 3), activation='relu', padding='same')(input_layer)\n",
        "    x = BatchNormalization()(x)\n",
        "    x = MaxPooling2D((2, 2))(x)\n",
        "    x = Dropout(0.3)(x)\n",
        "    x = Conv2D(64, (3, 3), activation='relu', padding='same')(x)\n",
        "    x = BatchNormalization()(x)\n",
        "    x = MaxPooling2D((2, 2))(x)\n",
        "    x = Dropout(0.3)(x)\n",
        "    x = Flatten()(x)\n",
        "    x = Dense(128, activation='relu')(x)\n",
        "    x = Dropout(0.5)(x)\n",
        "    output_layer = Dense(len(classes), activation='softmax')(x)\n",
        "    model = Model(input_layer, output_layer)\n",
        "    plot_model(model, to_file='custom_cnn.png', show_shapes=True, show_layer_names=True)\n",
        "    model.compile(optimizer=Adam(learning_rate=0.001), loss='categorical_crossentropy', metrics=['accuracy'])\n",
        "\n",
        "    early_stopping = EarlyStopping(monitor='val_loss', patience=10, restore_best_weights=True)\n",
        "\n",
        "    history = model.fit(X_train, y_train, epochs=50, batch_size=32,\n",
        "                        validation_data=(X_test, y_test), callbacks=[early_stopping], verbose=0)\n",
        "\n",
        "    # Evaluate\n",
        "    y_pred_probs = model.predict(X_test)\n",
        "    y_pred = np.argmax(y_pred_probs, axis=1)\n",
        "    y_true = np.argmax(y_test, axis=1)\n",
        "\n",
        "    accuracy = accuracy_score(y_true, y_pred)\n",
        "    precision = precision_score(y_true, y_pred, average='weighted')\n",
        "    recall = recall_score(y_true, y_pred, average='weighted')\n",
        "    f1 = f1_score(y_true, y_pred, average='weighted')\n",
        "    fold_accuracies.append(accuracy)\n",
        "    fold_precisions.append(precision)\n",
        "    fold_recalls.append(recall)\n",
        "    fold_f1s.append(f1)\n",
        "\n",
        "    if f1 > best_f1:\n",
        "        best_f1 = f1\n",
        "        best_model = model\n",
        "        best_history = history\n",
        "        best_y_true = y_true\n",
        "        best_y_pred = y_pred\n",
        "        best_fold = fold\n",
        "\n",
        "    print(f\"Fold {fold} F1-Score: {f1:.4f}\")\n",
        "    fold += 1\n",
        "\n",
        "# === After all folds === #\n",
        "print(\"\\n Cross-validation complete.\")\n",
        "print(\"=== Average Metrics Across Folds ===\")\n",
        "print(f\"Accuracy: {np.mean(fold_accuracies):.4f}\")\n",
        "print(f\"Precision: {np.mean(fold_precisions):.4f}\")\n",
        "print(f\"Recall: {np.mean(fold_recalls):.4f}\")\n",
        "print(f\"F1 Score: {np.mean(fold_f1s):.4f}\")\n",
        "\n",
        "print(f\"\\nBest Fold: {best_fold} with F1-Score: {best_f1:.4f}\")\n"
      ],
      "metadata": {
        "id": "eS7_UOyyQX9j"
      },
      "execution_count": null,
      "outputs": []
    },
    {
      "cell_type": "code",
      "source": [
        "import matplotlib.pyplot as plt\n",
        "\n",
        "def plot_training_history(history):\n",
        "    \"\"\"\n",
        "    Plots training and validation loss & accuracy from a Keras model history object.\n",
        "\n",
        "    Args:\n",
        "        history: Keras History object from model.fit()\n",
        "    \"\"\"\n",
        "    # Create subplots for Loss and Accuracy\n",
        "    fig, ax = plt.subplots(1, 2, figsize=(12, 5))\n",
        "\n",
        "    # Loss Plot\n",
        "    ax[0].plot(history.history['loss'], label='Training Loss', color='blue')\n",
        "    ax[0].plot(history.history['val_loss'], label='Validation Loss', color='red')\n",
        "    ax[0].set_xlabel('Epochs')\n",
        "    ax[0].set_ylabel('Loss')\n",
        "    ax[0].set_title('Training & Validation Loss')\n",
        "    ax[0].legend()\n",
        "\n",
        "    # Accuracy Plot\n",
        "    ax[1].plot(history.history['accuracy'], label='Training Accuracy', color='blue')\n",
        "    ax[1].plot(history.history['val_accuracy'], label='Validation Accuracy', color='red')\n",
        "    ax[1].set_xlabel('Epochs')\n",
        "    ax[1].set_ylabel('Accuracy')\n",
        "    ax[1].set_title('Training & Validation Accuracy')\n",
        "    ax[1].legend()\n",
        "\n",
        "    # Show the plots\n",
        "    plt.show()\n"
      ],
      "metadata": {
        "id": "Xvl1VDH8cQfa"
      },
      "execution_count": null,
      "outputs": []
    },
    {
      "cell_type": "code",
      "source": [
        "\n",
        "# Compute and display confusion matrix\n",
        "conf_matrix = confusion_matrix(best_y_true, best_y_pred)\n",
        "print(\"Confusion Matrix:\\n\", conf_matrix)\n",
        "\n",
        "# Print Full Classification Report\n",
        "print(\"Classification Report:\\n\", classification_report(best_y_true, best_y_pred, zero_division=0, target_names=classes))"
      ],
      "metadata": {
        "id": "2Qns_Vu6Ra_C"
      },
      "execution_count": null,
      "outputs": []
    },
    {
      "cell_type": "code",
      "source": [
        "import seaborn as sns\n",
        "import matplotlib.pyplot as plt\n",
        "\n",
        "cm = confusion_matrix(best_y_true, best_y_pred)\n",
        "\n",
        "plt.figure(figsize=(6, 5))\n",
        "sns.heatmap(cm, annot=True, fmt=\"d\", cmap=\"Blues\", xticklabels=classes, yticklabels=classes)\n",
        "plt.xlabel(\"Predicted\")\n",
        "plt.ylabel(\"Actual\")\n",
        "plt.title(\"Confusion Matrix\")\n",
        "plt.show()"
      ],
      "metadata": {
        "id": "0MIm1Bxzwme7"
      },
      "execution_count": null,
      "outputs": []
    },
    {
      "cell_type": "code",
      "source": [
        "# Plot training performance\n",
        "plot_training_history(best_history)"
      ],
      "metadata": {
        "id": "ro6BDHYqcoDW"
      },
      "execution_count": null,
      "outputs": []
    },
    {
      "cell_type": "code",
      "source": [
        "# Define function to preprocess and classify an unseen audio file\n",
        "def test_audio(file_path, model):\n",
        "    # Load and preprocess the audio file\n",
        "    audio_data, sample_rate = librosa.load(file_path, sr=16000)\n",
        "\n",
        "    # Extract log Mel-spectrogram (MATCH TRAINING PREPROCESSING)\n",
        "    mel_spectrogram = librosa.feature.melspectrogram(y=audio_data, sr=sample_rate)\n",
        "    mel_spectrogram = librosa.power_to_db(mel_spectrogram, ref=np.max)  # Convert to log scale\n",
        "\n",
        "    # Resize to match training shape\n",
        "    mel_spectrogram = resize(np.expand_dims(mel_spectrogram, axis=-1), (128, 128))\n",
        "    mel_spectrogram = tf.reshape(mel_spectrogram, (1, 128, 128, 1))  # Ensure batch dimension\n",
        "\n",
        "    # Make predictions\n",
        "    predictions = model.predict(mel_spectrogram)\n",
        "\n",
        "    # Get the class probabilities\n",
        "    class_probabilities = predictions[0]\n",
        "\n",
        "    # Get the predicted class index\n",
        "    predicted_class_index = np.argmax(class_probabilities)\n",
        "\n",
        "    return class_probabilities, predicted_class_index\n",
        "\n",
        "# Example: Test an unseen audio file\n",
        "test_audio_file = \"/content/c0003.wav\"\n",
        "class_probabilities, predicted_class_index = test_audio(test_audio_file, model)\n",
        "\n",
        "# Display results for all classes\n",
        "for i, class_label in enumerate(classes):\n",
        "    probability = class_probabilities[i]\n",
        "    print(f\"Class: {class_label}, Probability: {probability:.4f}\")\n",
        "\n",
        "# Display final classification\n",
        "predicted_class = classes[predicted_class_index]\n",
        "confidence = class_probabilities[predicted_class_index]\n",
        "print(f\"The audio is classified as: {predicted_class}\")\n",
        "print(f\"Confidence Score: {confidence:.4f}\")\n"
      ],
      "metadata": {
        "id": "WqObY1KORpNL"
      },
      "execution_count": null,
      "outputs": []
    },
    {
      "cell_type": "code",
      "source": [
        "# Save the model\n",
        "model.save('Best_RandomState_audio_classification_model.keras')"
      ],
      "metadata": {
        "id": "7yEqEmA4SKh0"
      },
      "execution_count": null,
      "outputs": []
    },
    {
      "cell_type": "code",
      "source": [
        "import librosa\n",
        "import numpy as np\n",
        "import tensorflow as tf\n",
        "import librosa.display\n",
        "import matplotlib.pyplot as plt\n",
        "import os\n",
        "\n",
        "# Function to extract Mel spectrogram features\n",
        "def extract_mel_spectrogram(file_path, sr=16000, n_mels=64, hop_length=512):\n",
        "    # Load audio file and resample to 16kHz\n",
        "    audio_data, _ = librosa.load(file_path, sr=sr)\n",
        "\n",
        "    # Compute Mel spectrogram\n",
        "    mel_spectrogram = librosa.feature.melspectrogram(y=audio_data, sr=sr, n_mels=n_mels, hop_length=hop_length)\n",
        "\n",
        "    # Convert to log scale (better for CNNs)\n",
        "    mel_spectrogram = librosa.power_to_db(mel_spectrogram, ref=np.max)\n",
        "\n",
        "    return mel_spectrogram\n",
        "\n",
        "# Example Usage:\n",
        "file_path = \"/content/c0002.wav\"\n",
        "mel_spec = extract_mel_spectrogram(file_path)\n",
        "\n",
        "# Display Mel Spectrogram\n",
        "plt.figure(figsize=(10, 4))\n",
        "librosa.display.specshow(mel_spec, sr=16000, hop_length=512, cmap='viridis')\n",
        "plt.colorbar(label='dB')\n",
        "plt.title(\"Mel Spectrogram for Abnormal\")\n",
        "plt.show()\n",
        "\n",
        "# Example Usage:\n",
        "file_path = \"/content/c0003.wav\"\n",
        "mel_spec = extract_mel_spectrogram(file_path)\n",
        "\n",
        "# Display Mel Spectrogram\n",
        "plt.figure(figsize=(10, 4))\n",
        "librosa.display.specshow(mel_spec, sr=16000, hop_length=512, cmap='viridis')\n",
        "plt.colorbar(label='dB')\n",
        "plt.title(\"Mel Spectrogram for Normal\")\n",
        "plt.show()\n",
        "\n"
      ],
      "metadata": {
        "collapsed": true,
        "id": "BhqgybPpKEJt"
      },
      "execution_count": null,
      "outputs": []
    }
  ]
}